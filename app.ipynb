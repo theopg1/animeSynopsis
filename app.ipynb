{
 "cells": [
  {
   "cell_type": "code",
   "execution_count": 1,
   "metadata": {},
   "outputs": [],
   "source": [
    "#|default_exp app"
   ]
  },
  {
   "attachments": {},
   "cell_type": "markdown",
   "metadata": {},
   "source": [
    "Import des librairies fastai et gradio"
   ]
  },
  {
   "cell_type": "code",
   "execution_count": 2,
   "metadata": {},
   "outputs": [],
   "source": [
    "#|export\n",
    "from fastai.vision.all import *\n",
    "import gradio as gr"
   ]
  },
  {
   "attachments": {},
   "cell_type": "markdown",
   "metadata": {},
   "source": [
    "Chargement de notre model.pkl provenant du jupyter model.ipynb"
   ]
  },
  {
   "cell_type": "code",
   "execution_count": 4,
   "metadata": {},
   "outputs": [],
   "source": [
    "#|export\n",
    "learn = load_learner('model.pkl')"
   ]
  },
  {
   "attachments": {},
   "cell_type": "markdown",
   "metadata": {},
   "source": [
    "Vérifiaction de notre model avec l'image d'exemple ci dessus, plus affichage du temps de réponse"
   ]
  },
  {
   "cell_type": "code",
   "execution_count": 6,
   "metadata": {},
   "outputs": [],
   "source": [
    "#|export\n",
    "labels = learn.dls.vocab\n",
    "def predict(txt):\n",
    "    pred,pred_idx,probs = learn.predict([txt])\n",
    "    return print(\"pred = \"+ pred + \", pred_idx = \"+ pred_idx + \", probs = \" + probs)"
   ]
  },
  {
   "cell_type": "code",
   "execution_count": 5,
   "metadata": {},
   "outputs": [
    {
     "data": {
      "text/html": [
       "\n",
       "<style>\n",
       "    /* Turns off some styling */\n",
       "    progress {\n",
       "        /* gets rid of default border in Firefox and Opera. */\n",
       "        border: none;\n",
       "        /* Needs to be in here for Safari polyfill so background images work as expected. */\n",
       "        background-size: auto;\n",
       "    }\n",
       "    progress:not([value]), progress:not([value])::-webkit-progress-bar {\n",
       "        background: repeating-linear-gradient(45deg, #7e7e7e, #7e7e7e 10px, #5c5c5c 10px, #5c5c5c 20px);\n",
       "    }\n",
       "    .progress-bar-interrupted, .progress-bar-interrupted::-webkit-progress-bar {\n",
       "        background: #F44336;\n",
       "    }\n",
       "</style>\n"
      ],
      "text/plain": [
       "<IPython.core.display.HTML object>"
      ]
     },
     "metadata": {},
     "output_type": "display_data"
    },
    {
     "data": {
      "text/html": [],
      "text/plain": [
       "<IPython.core.display.HTML object>"
      ]
     },
     "metadata": {},
     "output_type": "display_data"
    },
    {
     "name": "stdout",
     "output_type": "stream",
     "text": [
      "Wall time: 84.5 ms\n"
     ]
    },
    {
     "data": {
      "text/plain": [
       "('Healthy',\n",
       " TensorBase(3),\n",
       " TensorBase([1.3677e-06, 2.2064e-07, 8.9837e-09, 1.0000e+00, 2.9823e-08,\n",
       "             3.2561e-07]))"
      ]
     },
     "execution_count": 5,
     "metadata": {},
     "output_type": "execute_result"
    }
   ],
   "source": [
    "text = 'Vash the Stampede is the man with a $$60,000,000,000 bounty on his head. The reason:'\n",
    "%%time\n",
    "learn.predict(text)"
   ]
  },
  {
   "attachments": {},
   "cell_type": "markdown",
   "metadata": {},
   "source": [
    "Création de l'interface local (puis pour huggingface) de notre model"
   ]
  },
  {
   "cell_type": "code",
   "execution_count": 8,
   "metadata": {},
   "outputs": [
    {
     "name": "stderr",
     "output_type": "stream",
     "text": [
      "c:\\Python39\\lib\\site-packages\\gradio\\inputs.py:257: UserWarning: Usage of gradio.inputs is deprecated, and will not be supported in the future, please import your component from gradio.components\n",
      "  warnings.warn(\n",
      "c:\\Python39\\lib\\site-packages\\gradio\\deprecation.py:40: UserWarning: `optional` parameter is deprecated, and it has no effect\n",
      "  warnings.warn(value)\n",
      "c:\\Python39\\lib\\site-packages\\gradio\\outputs.py:197: UserWarning: Usage of gradio.outputs is deprecated, and will not be supported in the future, please import your components from gradio.components\n",
      "  warnings.warn(\n",
      "c:\\Python39\\lib\\site-packages\\gradio\\deprecation.py:40: UserWarning: The 'type' parameter has been deprecated. Use the Number component instead.\n",
      "  warnings.warn(value)\n"
     ]
    },
    {
     "name": "stdout",
     "output_type": "stream",
     "text": [
      "Running on local URL:  http://127.0.0.1:7860\n",
      "\n",
      "To create a public link, set `share=True` in `launch()`.\n"
     ]
    },
    {
     "data": {
      "text/plain": []
     },
     "execution_count": 8,
     "metadata": {},
     "output_type": "execute_result"
    }
   ],
   "source": [
    "#|export\n",
    "label = gr.outputs.Label(num_top_classes=2)\n",
    "\n",
    "anime = \"After the betrayal of his companions, Haruyoshi, the strongest diviner, was on the verge of dying. Hoping to be happy in the next life, he attempted the secret reincarnation technique and was sent to a different world! Born into a family of magicians, the magic he didn't inherit paled in comparison to his previous abilities as an onmyouji. 'Who needs magic? I'll survive in this world with my old techniques!'\"\n",
    "movie = \"During World War I, a father enlists himself in the French Army in order to be with his 17-year-old son who was recruited against his will. Sent to the front, they find themselves facing the war together in the French colony of Senegal.\"\n",
    "\n",
    "examples = [anime, movie]\n",
    "\n",
    "title = \"Synopsis Text Recognition\"\n",
    "description = \"<p style='text-align: center'>Identifier si un synopsis provient d'un anime ou un film.</p>\"\n",
    "\n",
    "intf = gr.Interface(fn=predict, title=title, description=description, inputs=gr.TextArea(), outputs=label, examples=examples)\n",
    "intf.launch(inline=False)"
   ]
  },
  {
   "attachments": {},
   "cell_type": "markdown",
   "metadata": {},
   "source": [
    "affichage des tensor et autres paramètres"
   ]
  },
  {
   "cell_type": "code",
   "execution_count": 20,
   "metadata": {},
   "outputs": [],
   "source": [
    "m = learn.model\n",
    "ps = list(m.parameters())"
   ]
  },
  {
   "cell_type": "code",
   "execution_count": 21,
   "metadata": {},
   "outputs": [
    {
     "data": {
      "text/plain": [
       "Parameter containing:\n",
       "tensor([ 2.3440e-01,  2.6681e-01, -5.1096e-08,  5.1773e-01,  3.4404e-09,\n",
       "         2.2183e-01,  4.2317e-01,  1.3153e-07,  2.5139e-01,  1.5152e-06,\n",
       "         3.1692e-01,  2.5036e-01,  3.7966e-01,  1.0862e-05,  2.7543e-01,\n",
       "         2.3581e-01,  2.4126e-01,  3.9501e-01,  4.6930e-01,  2.9075e-01,\n",
       "         2.7248e-01,  2.7778e-01,  2.9011e-01,  2.0662e-01,  2.5882e-01,\n",
       "         2.7885e-01,  2.9157e-01,  3.1651e-01,  3.8930e-01,  3.0357e-01,\n",
       "         2.6747e-01,  2.1000e-01,  2.8686e-01,  3.3259e-01,  4.2605e-01,\n",
       "         3.7350e-01,  7.4804e-08,  1.9047e-01,  1.4740e-08,  2.2216e-01,\n",
       "         1.7881e-01,  2.4859e-01,  2.7404e-01,  2.6027e-01,  2.9470e-01,\n",
       "         2.9876e-01,  2.2399e-01,  2.6289e-01,  2.2001e-08,  2.6663e-01,\n",
       "         2.2132e-01,  2.8523e-01,  3.2991e-01,  2.2610e-01,  3.6598e-01,\n",
       "         2.1201e-01,  2.3872e-01,  2.4902e-01,  5.2605e-01,  2.4842e-01,\n",
       "         2.9574e-01,  2.5956e-01,  4.8433e-01,  2.6712e-01],\n",
       "       requires_grad=True)"
      ]
     },
     "execution_count": 21,
     "metadata": {},
     "output_type": "execute_result"
    }
   ],
   "source": [
    "ps[1]"
   ]
  },
  {
   "cell_type": "code",
   "execution_count": 22,
   "metadata": {},
   "outputs": [
    {
     "data": {
      "text/plain": [
       "torch.Size([64, 3, 7, 7])"
      ]
     },
     "execution_count": 22,
     "metadata": {},
     "output_type": "execute_result"
    }
   ],
   "source": [
    "ps[0].shape"
   ]
  },
  {
   "cell_type": "code",
   "execution_count": 23,
   "metadata": {},
   "outputs": [
    {
     "data": {
      "text/plain": [
       "Parameter containing:\n",
       "tensor([[[[-1.0425e-02, -6.1071e-03, -1.8009e-03,  ...,  5.6630e-02,\n",
       "            1.7085e-02, -1.2730e-02],\n",
       "          [ 1.1043e-02,  9.5079e-03, -1.0997e-01,  ..., -2.7127e-01,\n",
       "           -1.2911e-01,  3.6872e-03],\n",
       "          [-7.0016e-03,  5.9039e-02,  2.9542e-01,  ...,  5.1966e-01,\n",
       "            2.5627e-01,  6.3510e-02],\n",
       "          ...,\n",
       "          [-2.7598e-02,  1.5991e-02,  7.2525e-02,  ..., -3.3293e-01,\n",
       "           -4.2066e-01, -2.5789e-01],\n",
       "          [ 3.0551e-02,  4.0907e-02,  6.2776e-02,  ...,  4.1376e-01,\n",
       "            3.9351e-01,  1.6598e-01],\n",
       "          [-1.3804e-02, -3.7298e-03, -2.4153e-02,  ..., -1.5076e-01,\n",
       "           -8.2301e-02, -5.8531e-03]],\n",
       "\n",
       "         [[-1.1349e-02, -2.6545e-02, -3.4588e-02,  ...,  3.2554e-02,\n",
       "            6.8441e-04, -2.5747e-02],\n",
       "          [ 4.5713e-02,  3.3631e-02, -1.0452e-01,  ..., -3.1253e-01,\n",
       "           -1.6051e-01, -1.2969e-03],\n",
       "          [-8.2178e-04,  9.8418e-02,  4.0208e-01,  ...,  7.0785e-01,\n",
       "            3.6885e-01,  1.2454e-01],\n",
       "          ...,\n",
       "          [-5.5890e-02, -5.1998e-03,  2.7076e-02,  ..., -4.6182e-01,\n",
       "           -5.7084e-01, -3.6554e-01],\n",
       "          [ 3.2888e-02,  5.5594e-02,  9.9659e-02,  ...,  5.4631e-01,\n",
       "            4.8272e-01,  1.9865e-01],\n",
       "          [ 5.3247e-03,  6.7080e-03, -1.7264e-02,  ..., -1.4826e-01,\n",
       "           -7.7284e-02,  6.9804e-04]],\n",
       "\n",
       "         [[-2.0180e-03, -9.1389e-03,  2.1228e-02,  ...,  8.9198e-02,\n",
       "            3.3662e-02, -2.0123e-02],\n",
       "          [ 1.5386e-02, -1.8657e-02, -1.2592e-01,  ..., -2.5343e-01,\n",
       "           -1.2982e-01, -2.8010e-02],\n",
       "          [ 9.8237e-03,  4.9018e-02,  2.1696e-01,  ...,  3.4869e-01,\n",
       "            1.0430e-01,  1.8377e-02],\n",
       "          ...,\n",
       "          [-2.8380e-02,  1.8380e-02,  9.8610e-02,  ..., -1.1745e-01,\n",
       "           -2.5766e-01, -1.5456e-01],\n",
       "          [ 2.0740e-02, -2.6537e-03, -3.7862e-02,  ...,  2.4136e-01,\n",
       "            2.4339e-01,  1.1790e-01],\n",
       "          [ 7.1676e-04,  7.4989e-04, -1.0087e-02,  ..., -1.4869e-01,\n",
       "           -1.1759e-01, -3.8404e-02]]],\n",
       "\n",
       "\n",
       "        [[[-4.3526e-03, -3.9985e-03,  3.2215e-03,  ..., -3.6978e-02,\n",
       "           -2.5109e-02, -4.7895e-02],\n",
       "          [ 5.1384e-02,  5.3472e-02,  8.0507e-02,  ...,  1.4485e-01,\n",
       "            1.4291e-01,  1.2317e-01],\n",
       "          [-7.2482e-03,  2.2542e-03,  3.7658e-02,  ...,  6.1565e-02,\n",
       "            8.0365e-02,  1.1719e-01],\n",
       "          ...,\n",
       "          [-2.6656e-02, -1.2290e-01, -1.3647e-01,  ..., -1.4063e-01,\n",
       "           -1.1151e-01, -4.9501e-02],\n",
       "          [ 2.3634e-02, -1.7203e-02, -1.1056e-02,  ..., -1.8772e-02,\n",
       "           -2.3282e-02, -2.9428e-02],\n",
       "          [ 2.8782e-02,  2.1737e-02,  4.7951e-02,  ...,  2.5543e-02,\n",
       "            3.5378e-02,  1.1319e-02]],\n",
       "\n",
       "         [[ 5.4257e-04,  1.2219e-02,  4.2085e-02,  ...,  4.6442e-02,\n",
       "            4.0466e-02, -1.4388e-02],\n",
       "          [ 4.3545e-02,  6.8850e-02,  1.3273e-01,  ...,  2.8610e-01,\n",
       "            2.6908e-01,  2.0939e-01],\n",
       "          [-5.7532e-02, -2.2567e-02,  3.0606e-02,  ...,  1.3766e-01,\n",
       "            1.6540e-01,  1.7950e-01],\n",
       "          ...,\n",
       "          [-1.0809e-01, -2.5222e-01, -2.9739e-01,  ..., -2.8500e-01,\n",
       "           -2.1491e-01, -1.0316e-01],\n",
       "          [ 4.0781e-02, -3.2721e-02, -6.3418e-02,  ..., -9.2334e-02,\n",
       "           -6.9861e-02, -4.9817e-02],\n",
       "          [ 8.2998e-02,  8.7617e-02,  1.0114e-01,  ...,  5.2735e-02,\n",
       "            6.0981e-02,  4.1225e-02]],\n",
       "\n",
       "         [[-1.6425e-02, -1.3904e-02,  5.2395e-03,  ...,  4.3651e-02,\n",
       "            2.2652e-02, -4.6039e-02],\n",
       "          [ 3.3174e-02,  4.1984e-02,  9.3471e-02,  ...,  2.6157e-01,\n",
       "            2.2964e-01,  1.6688e-01],\n",
       "          [-4.6008e-02, -1.6392e-02,  2.6783e-02,  ...,  1.4946e-01,\n",
       "            1.3210e-01,  1.3573e-01],\n",
       "          ...,\n",
       "          [-7.2157e-02, -1.8907e-01, -2.3395e-01,  ..., -1.9044e-01,\n",
       "           -1.5616e-01, -7.6017e-02],\n",
       "          [ 5.1131e-02, -2.5856e-02, -6.9414e-02,  ..., -5.9058e-02,\n",
       "           -6.1623e-02, -4.4614e-02],\n",
       "          [ 1.1169e-01,  7.8930e-02,  6.5790e-02,  ...,  3.1552e-02,\n",
       "            2.5147e-02,  7.3587e-03]]],\n",
       "\n",
       "\n",
       "        [[[-7.0825e-08, -6.4306e-08, -7.3805e-08,  ..., -9.7999e-08,\n",
       "           -1.0905e-07, -8.3420e-08],\n",
       "          [-6.1125e-09,  2.0612e-09, -8.0921e-09,  ..., -4.9840e-08,\n",
       "           -4.3836e-08, -3.0537e-09],\n",
       "          [ 7.1952e-08,  7.5616e-08,  5.9282e-08,  ..., -9.7508e-09,\n",
       "           -1.0951e-09,  4.2442e-08],\n",
       "          ...,\n",
       "          [ 9.5888e-08,  1.0039e-07,  7.9817e-08,  ..., -1.7491e-08,\n",
       "           -4.7666e-08, -1.3265e-08],\n",
       "          [ 1.2904e-07,  1.4762e-07,  1.7476e-07,  ...,  1.3232e-07,\n",
       "            1.0628e-07,  9.3315e-08],\n",
       "          [ 1.2558e-07,  1.3644e-07,  1.8431e-07,  ...,  2.1398e-07,\n",
       "            1.7710e-07,  1.7166e-07]],\n",
       "\n",
       "         [[-1.2690e-07, -9.6138e-08, -1.0372e-07,  ..., -1.1808e-07,\n",
       "           -1.3309e-07, -1.0819e-07],\n",
       "          [-5.7412e-08, -2.5055e-08, -3.0115e-08,  ..., -7.2922e-08,\n",
       "           -6.7022e-08, -2.2574e-08],\n",
       "          [ 2.1813e-08,  4.8608e-08,  3.1221e-08,  ..., -1.8694e-08,\n",
       "           -7.9590e-09,  3.9750e-08],\n",
       "          ...,\n",
       "          [ 5.6013e-08,  7.5525e-08,  4.4495e-08,  ..., -4.4127e-08,\n",
       "           -5.9930e-08, -1.8247e-08],\n",
       "          [ 7.7613e-08,  9.8347e-08,  1.0455e-07,  ...,  6.3271e-08,\n",
       "            4.1780e-08,  4.5901e-08],\n",
       "          [ 5.9833e-08,  7.1006e-08,  9.0436e-08,  ...,  1.1654e-07,\n",
       "            8.7550e-08,  9.8836e-08]],\n",
       "\n",
       "         [[-4.3810e-08,  1.3270e-08,  7.8275e-09,  ..., -5.8804e-09,\n",
       "           -2.6217e-08, -1.5649e-08],\n",
       "          [ 4.1700e-08,  1.0777e-07,  1.0946e-07,  ...,  7.6402e-08,\n",
       "            7.1449e-08,  9.7614e-08],\n",
       "          [ 1.0436e-07,  1.6585e-07,  1.5933e-07,  ...,  1.3517e-07,\n",
       "            1.3487e-07,  1.6448e-07],\n",
       "          ...,\n",
       "          [ 9.8763e-08,  1.5072e-07,  1.2547e-07,  ...,  6.8315e-08,\n",
       "            6.8381e-08,  1.1367e-07],\n",
       "          [ 9.1434e-08,  1.3576e-07,  1.3793e-07,  ...,  1.1678e-07,\n",
       "            1.1723e-07,  1.4394e-07],\n",
       "          [ 6.2182e-08,  8.8184e-08,  1.0456e-07,  ...,  1.3941e-07,\n",
       "            1.3332e-07,  1.5844e-07]]],\n",
       "\n",
       "\n",
       "        ...,\n",
       "\n",
       "\n",
       "        [[[-6.1929e-02, -3.0213e-02,  1.9261e-02,  ...,  4.3724e-02,\n",
       "           -2.2097e-02, -4.2257e-02],\n",
       "          [-3.8071e-02,  6.0744e-03,  4.5828e-02,  ...,  9.6042e-02,\n",
       "            5.9230e-02,  2.9915e-02],\n",
       "          [-2.9671e-02,  2.7986e-03,  2.0486e-02,  ...,  5.9804e-02,\n",
       "            4.1385e-02,  2.3100e-02],\n",
       "          ...,\n",
       "          [ 1.1911e-02,  4.5739e-02,  4.4921e-02,  ...,  4.7441e-02,\n",
       "            2.2300e-02, -5.4619e-03],\n",
       "          [-3.2478e-02, -1.2188e-02,  2.2033e-02,  ...,  5.8056e-02,\n",
       "           -7.5061e-03, -5.9736e-02],\n",
       "          [-4.3301e-02, -2.8113e-02, -5.8735e-03,  ...,  8.8466e-02,\n",
       "            8.4378e-03, -5.0036e-02]],\n",
       "\n",
       "         [[-6.1330e-02, -1.4043e-02,  1.7214e-02,  ...,  1.8310e-02,\n",
       "           -3.2774e-02, -4.1161e-02],\n",
       "          [-3.1523e-02,  2.4428e-02,  4.5502e-02,  ...,  6.6740e-02,\n",
       "            4.6600e-02,  3.3148e-02],\n",
       "          [-3.2210e-02,  2.0724e-02,  2.3336e-02,  ...,  3.5181e-02,\n",
       "            3.6392e-02,  3.1199e-02],\n",
       "          ...,\n",
       "          [ 1.7723e-02,  6.1050e-02,  4.8245e-02,  ...,  3.7758e-02,\n",
       "            2.8856e-02,  1.3949e-02],\n",
       "          [-1.0907e-02,  2.2085e-02,  4.2739e-02,  ...,  6.0218e-02,\n",
       "            1.6165e-02, -1.2536e-02],\n",
       "          [-2.2283e-02,  1.3246e-02,  3.0917e-02,  ...,  1.0402e-01,\n",
       "            4.0097e-02, -5.3680e-03]],\n",
       "\n",
       "         [[-8.5343e-02, -4.2613e-02,  6.8395e-03,  ...,  3.0790e-02,\n",
       "           -3.4796e-02, -4.9956e-02],\n",
       "          [-2.9242e-02,  1.8138e-02,  5.1089e-02,  ...,  9.0193e-02,\n",
       "            5.3419e-02,  4.0148e-02],\n",
       "          [-3.9948e-02, -1.1131e-03,  9.6146e-03,  ...,  2.4085e-02,\n",
       "            2.6276e-02,  2.5481e-02],\n",
       "          ...,\n",
       "          [-3.1978e-03,  3.0470e-02,  1.6327e-02,  ...,  5.5262e-03,\n",
       "           -6.2340e-03, -8.4162e-03],\n",
       "          [-2.3016e-02, -2.8258e-03,  2.3201e-02,  ...,  3.5899e-02,\n",
       "           -1.4270e-02, -3.2385e-02],\n",
       "          [-9.8938e-03,  7.0706e-03,  1.0673e-02,  ...,  7.0515e-02,\n",
       "            1.3024e-02, -8.3185e-03]]],\n",
       "\n",
       "\n",
       "        [[[-7.8782e-03,  1.9904e-02,  3.4191e-02,  ...,  2.8690e-02,\n",
       "            1.2835e-02,  1.8170e-02],\n",
       "          [ 8.7902e-03, -3.2908e-02, -3.5760e-02,  ...,  7.2533e-02,\n",
       "            4.5921e-02,  5.2423e-02],\n",
       "          [-3.6121e-02, -1.1879e-01, -1.3768e-01,  ...,  3.3821e-02,\n",
       "            3.7848e-02,  2.6981e-02],\n",
       "          ...,\n",
       "          [ 1.7304e-02,  3.9846e-03, -8.1811e-03,  ...,  2.8278e-03,\n",
       "            1.8364e-02,  1.6088e-02],\n",
       "          [-9.7485e-04,  1.6435e-02,  1.7170e-02,  ...,  3.4178e-03,\n",
       "            2.2896e-02,  6.7010e-04],\n",
       "          [ 6.1574e-03,  2.7165e-02,  1.4341e-02,  ...,  7.6058e-03,\n",
       "            1.8805e-02,  1.5630e-02]],\n",
       "\n",
       "         [[-1.3481e-02, -5.7225e-04,  8.0127e-03,  ..., -6.1505e-03,\n",
       "            9.1921e-03,  1.5722e-02],\n",
       "          [-1.8408e-02, -6.8085e-02, -7.0797e-02,  ...,  2.9811e-02,\n",
       "            2.6251e-02,  2.3772e-02],\n",
       "          [-5.4435e-02, -1.4672e-01, -1.6221e-01,  ...,  1.1748e-02,\n",
       "            3.2479e-02,  1.1985e-02],\n",
       "          ...,\n",
       "          [ 7.4184e-04, -1.7627e-02, -1.9572e-02,  ..., -4.1148e-03,\n",
       "            2.4671e-02,  1.2894e-02],\n",
       "          [-7.3242e-04,  1.1713e-02,  2.4763e-02,  ...,  6.1276e-03,\n",
       "            3.9219e-02,  9.6595e-03],\n",
       "          [-7.2834e-03,  6.6363e-03,  5.2170e-03,  ..., -7.6191e-03,\n",
       "            2.7254e-02,  1.7715e-02]],\n",
       "\n",
       "         [[-1.6413e-04, -4.8495e-03,  2.3556e-03,  ..., -4.7921e-02,\n",
       "           -2.6108e-02, -2.3475e-02],\n",
       "          [-2.5928e-04, -5.1433e-02, -5.9925e-02,  ..., -1.7319e-02,\n",
       "           -2.3273e-02, -3.7247e-02],\n",
       "          [-2.2617e-02, -9.9352e-02, -1.1171e-01,  ..., -1.1667e-02,\n",
       "           -8.3057e-03, -4.0553e-02],\n",
       "          ...,\n",
       "          [ 1.1474e-02, -7.9667e-03, -1.4214e-03,  ..., -3.4048e-02,\n",
       "           -8.6587e-03, -2.3475e-02],\n",
       "          [ 2.9843e-03,  7.2877e-04,  1.9980e-02,  ..., -2.1929e-02,\n",
       "            1.4870e-02, -1.4454e-02],\n",
       "          [-1.9043e-02, -2.9366e-02, -2.3246e-02,  ..., -4.8533e-02,\n",
       "           -1.2989e-02, -2.4338e-02]]],\n",
       "\n",
       "\n",
       "        [[[-3.6223e-02,  7.2648e-03,  1.9153e-02,  ...,  1.9649e-02,\n",
       "            1.4918e-02, -1.7257e-02],\n",
       "          [-1.1018e-02,  8.5710e-02,  1.2671e-01,  ...,  1.3777e-02,\n",
       "           -2.3175e-05, -3.0131e-02],\n",
       "          [ 1.1326e-01,  1.8639e-01,  5.0709e-02,  ..., -1.7328e-01,\n",
       "           -7.2001e-02, -6.2441e-02],\n",
       "          ...,\n",
       "          [-5.3034e-02, -2.5777e-01, -2.6743e-01,  ...,  2.6783e-01,\n",
       "            1.4347e-01,  5.5178e-02],\n",
       "          [-2.1004e-02, -2.9957e-02,  1.0247e-01,  ...,  2.0844e-01,\n",
       "           -4.1446e-03, -3.8093e-02],\n",
       "          [-2.2156e-02,  1.2380e-02,  8.4318e-02,  ..., -4.4982e-02,\n",
       "           -1.4686e-01, -9.0857e-02]],\n",
       "\n",
       "         [[-5.4975e-03,  3.2681e-02,  1.5356e-02,  ..., -7.8582e-03,\n",
       "            2.9202e-03,  1.0248e-03],\n",
       "          [ 6.1612e-02,  1.4886e-01,  1.4632e-01,  ..., -2.9012e-02,\n",
       "           -2.0336e-02, -9.2903e-03],\n",
       "          [ 1.6136e-01,  2.0876e-01, -2.5697e-02,  ..., -2.7288e-01,\n",
       "           -1.0746e-01, -6.3072e-02],\n",
       "          ...,\n",
       "          [-1.3731e-01, -4.0872e-01, -3.8560e-01,  ...,  4.0835e-01,\n",
       "            2.6191e-01,  1.3480e-01],\n",
       "          [-5.9472e-02, -6.1276e-02,  1.4188e-01,  ...,  3.5770e-01,\n",
       "            9.0783e-02, -1.8402e-03],\n",
       "          [ 7.7759e-03,  5.8312e-02,  1.5330e-01,  ...,  4.6951e-02,\n",
       "           -1.0105e-01, -9.8009e-02]],\n",
       "\n",
       "         [[-5.5738e-03,  1.3536e-02, -2.6357e-02,  ...,  4.5957e-03,\n",
       "            2.1811e-03,  1.4016e-02],\n",
       "          [ 6.6969e-03,  4.5291e-02,  6.0366e-02,  ...,  1.4474e-02,\n",
       "           -4.9603e-03,  4.1676e-03],\n",
       "          [ 5.5356e-02,  1.2408e-01,  4.3304e-02,  ..., -1.4474e-01,\n",
       "           -7.4371e-02, -5.7413e-02],\n",
       "          ...,\n",
       "          [-3.1429e-02, -1.6324e-01, -1.5785e-01,  ...,  2.2914e-01,\n",
       "            1.2028e-01,  7.2108e-02],\n",
       "          [-1.0382e-02, -1.0397e-03,  8.4676e-02,  ...,  1.5758e-01,\n",
       "            2.2242e-02, -9.9709e-03],\n",
       "          [-4.7935e-03, -4.9308e-03,  3.6431e-02,  ..., -2.4268e-02,\n",
       "           -7.1094e-02, -6.6673e-02]]]], requires_grad=True)"
      ]
     },
     "execution_count": 23,
     "metadata": {},
     "output_type": "execute_result"
    }
   ],
   "source": [
    "ps[0]"
   ]
  },
  {
   "attachments": {},
   "cell_type": "markdown",
   "metadata": {},
   "source": [
    "# Export\n",
    "\n",
    "Génération automatique du app.ipynb en app.py"
   ]
  },
  {
   "cell_type": "code",
   "execution_count": 17,
   "metadata": {},
   "outputs": [],
   "source": [
    "from nbdev.export import nb_export"
   ]
  },
  {
   "cell_type": "code",
   "execution_count": 18,
   "metadata": {},
   "outputs": [],
   "source": [
    "nb_export('app.ipynb', './')"
   ]
  }
 ],
 "metadata": {
  "kernelspec": {
   "display_name": "Python 3",
   "language": "python",
   "name": "python3"
  },
  "language_info": {
   "codemirror_mode": {
    "name": "ipython",
    "version": 3
   },
   "file_extension": ".py",
   "mimetype": "text/x-python",
   "name": "python",
   "nbconvert_exporter": "python",
   "pygments_lexer": "ipython3",
   "version": "3.9.2 (tags/v3.9.2:1a79785, Feb 19 2021, 13:44:55) [MSC v.1928 64 bit (AMD64)]"
  },
  "orig_nbformat": 4,
  "vscode": {
   "interpreter": {
    "hash": "81794d4967e6c3204c66dcd87b604927b115b27c00565d3d43f05ba2f3a2cb0d"
   }
  }
 },
 "nbformat": 4,
 "nbformat_minor": 2
}
